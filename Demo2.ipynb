{
  "nbformat": 4,
  "nbformat_minor": 0,
  "metadata": {
    "colab": {
      "provenance": [],
      "authorship_tag": "ABX9TyNODIc7SDrXyqvPGA+82gI6",
      "include_colab_link": true
    },
    "kernelspec": {
      "name": "python3",
      "display_name": "Python 3"
    },
    "language_info": {
      "name": "python"
    }
  },
  "cells": [
    {
      "cell_type": "markdown",
      "metadata": {
        "id": "view-in-github",
        "colab_type": "text"
      },
      "source": [
        "<a href=\"https://colab.research.google.com/github/MartinTiong/CPE009A-OOP/blob/main/Demo2.ipynb\" target=\"_parent\"><img src=\"https://colab.research.google.com/assets/colab-badge.svg\" alt=\"Open In Colab\"/></a>"
      ]
    },
    {
      "cell_type": "code",
      "execution_count": null,
      "metadata": {
        "id": "7AboK7aiNgyN"
      },
      "outputs": [],
      "source": []
    },
    {
      "cell_type": "markdown",
      "source": [
        "flowchart\n",
        "(average of 3 numbers)"
      ],
      "metadata": {
        "id": "WtQGq9MrNhVx"
      }
    },
    {
      "cell_type": "code",
      "source": [
        "numa,numb,numc=50,50,50\n",
        "total = numa + numb + numc\n",
        "print(total)\n",
        "average = total/3\n",
        "print(average)\n"
      ],
      "metadata": {
        "colab": {
          "base_uri": "https://localhost:8080/"
        },
        "id": "qdDxEzf5NjKQ",
        "outputId": "0a10ed43-17d7-4850-c579-80289ef5c926"
      },
      "execution_count": 1,
      "outputs": [
        {
          "output_type": "stream",
          "name": "stdout",
          "text": [
            "150\n",
            "50.0\n"
          ]
        }
      ]
    },
    {
      "cell_type": "markdown",
      "source": [
        "inputs\n"
      ],
      "metadata": {
        "id": "32j4RpzVPi2o"
      }
    },
    {
      "cell_type": "code",
      "source": [
        "print (\"Input three numbers\")\n",
        "numA= input()\n",
        "numB = input()\n",
        "numC = input()\n",
        "average= (int(numA)  + int(numB)  + int(numC))/3\n",
        "print(average)"
      ],
      "metadata": {
        "colab": {
          "base_uri": "https://localhost:8080/"
        },
        "id": "E0OHYa62PkUR",
        "outputId": "a54ece88-10dd-4505-8377-8ff9b460569a"
      },
      "execution_count": 11,
      "outputs": [
        {
          "output_type": "stream",
          "name": "stdout",
          "text": [
            "Input three numbers\n",
            "4\n",
            "45\n",
            "34\n",
            "27.666666666666668\n"
          ]
        }
      ]
    }
  ]
}