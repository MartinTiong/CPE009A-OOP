{
  "nbformat": 4,
  "nbformat_minor": 0,
  "metadata": {
    "colab": {
      "provenance": [],
      "authorship_tag": "ABX9TyP/4lI8ViOw9CE/sRpTCCTY",
      "include_colab_link": true
    },
    "kernelspec": {
      "name": "python3",
      "display_name": "Python 3"
    },
    "language_info": {
      "name": "python"
    }
  },
  "cells": [
    {
      "cell_type": "markdown",
      "metadata": {
        "id": "view-in-github",
        "colab_type": "text"
      },
      "source": [
        "<a href=\"https://colab.research.google.com/github/MartinTiong/CPE009A-OOP/blob/main/oopConcepts2.ipynb\" target=\"_parent\"><img src=\"https://colab.research.google.com/assets/colab-badge.svg\" alt=\"Open In Colab\"/></a>"
      ]
    },
    {
      "cell_type": "markdown",
      "source": [
        "Inheritance, encapsulation and creating multiple object names"
      ],
      "metadata": {
        "id": "g8pZBhWQrMTg"
      }
    },
    {
      "cell_type": "code",
      "execution_count": 16,
      "metadata": {
        "colab": {
          "base_uri": "https://localhost:8080/"
        },
        "id": "zfBZBfTMXYpg",
        "outputId": "c1a967d1-448f-4cef-ca1a-25d77ddb52f3"
      },
      "outputs": [
        {
          "output_type": "stream",
          "name": "stdout",
          "text": [
            "16\n",
            "6.928\n"
          ]
        }
      ],
      "source": [
        "class RegularPolygon:\n",
        "\n",
        "  def __init__(self,side):\n",
        "   self.side= side\n",
        "class Square(RegularPolygon):\n",
        "  def area(self):\n",
        "    return self.side *self.side\n",
        "class EquilateralTriangle(RegularPolygon):\n",
        "    def area(self):\n",
        "      return self.side*self.side*0.433\n",
        "\n",
        "square= Square(4)\n",
        "print(square.area())\n",
        "equilateraltriangle = EquilateralTriangle(4)\n",
        "print(equilateraltriangle.area())"
      ]
    },
    {
      "cell_type": "markdown",
      "source": [
        "encapsulation using mangling"
      ],
      "metadata": {
        "id": "a-trCu9grG24"
      }
    },
    {
      "cell_type": "code",
      "source": [
        "class RegularPolygon:\n",
        "  def __init__(self,side):\n",
        "    self.__side = side\n",
        "    def area(self):\n",
        "      print(self.__side*self.side)\n",
        "      class Square(RegularPolygon):\n",
        "        pass\n",
        "\n",
        "square = Square(6)\n",
        "square.area()\n"
      ],
      "metadata": {
        "colab": {
          "base_uri": "https://localhost:8080/"
        },
        "id": "F-Fk5GWRrweB",
        "outputId": "451f9611-40b6-4c3e-a761-f1c8a9301044"
      },
      "execution_count": 18,
      "outputs": [
        {
          "output_type": "execute_result",
          "data": {
            "text/plain": [
              "36"
            ]
          },
          "metadata": {},
          "execution_count": 18
        }
      ]
    },
    {
      "cell_type": "markdown",
      "source": [
        "Application 1"
      ],
      "metadata": {
        "id": "wel1DsPmtmB2"
      }
    },
    {
      "cell_type": "code",
      "source": [
        "class Student:\n",
        " def __init__(self,Pre, Mid, Fin):\n",
        "  self.__Pre = Pre\n",
        "  self.__Mid = Mid\n",
        "  self.__Fin = Fin\n",
        "\n",
        "class std1(Student):\n",
        " def Grade(self):\n",
        "  return(self.Pre + self.Mid + self.Fin)/3\n",
        "\n",
        "class std2(Student):\n",
        "  def Grade(self):\n",
        "   return(self.Pre + self.Mid + self.Fin)/3\n",
        "\n",
        "class std3(Student):\n",
        "  def Grade(self):\n",
        "    return(self.Pre + self.Mid + self.Fin)/3\n",
        "\n",
        "\n",
        "student1 = std1(60, 70, 88)\n",
        "print(student1.Grade)\n",
        "student2= std2(80, 70, 60)\n",
        "print(student2.Grade)\n",
        "student3 = std3(99, 79, 88)\n",
        "print(student3.Grade)\n",
        "\n",
        ""
      ],
      "metadata": {
        "colab": {
          "base_uri": "https://localhost:8080/",
          "height": 108
        },
        "id": "VIXyEcITteaW",
        "outputId": "0206adfc-99e6-44d7-9659-c1d9d3f877eb"
      },
      "execution_count": 22,
      "outputs": [
        {
          "output_type": "error",
          "ename": "SyntaxError",
          "evalue": "invalid syntax (<ipython-input-22-043d7dedc485>, line 18)",
          "traceback": [
            "\u001b[0;36m  File \u001b[0;32m\"<ipython-input-22-043d7dedc485>\"\u001b[0;36m, line \u001b[0;32m18\u001b[0m\n\u001b[0;31m    obj.1= Student(\"prelim: \"obj1.Prelim)\u001b[0m\n\u001b[0m       ^\u001b[0m\n\u001b[0;31mSyntaxError\u001b[0m\u001b[0;31m:\u001b[0m invalid syntax\n"
          ]
        }
      ]
    },
    {
      "cell_type": "code",
      "source": [],
      "metadata": {
        "id": "otyIVOfPugr3"
      },
      "execution_count": null,
      "outputs": []
    }
  ]
}