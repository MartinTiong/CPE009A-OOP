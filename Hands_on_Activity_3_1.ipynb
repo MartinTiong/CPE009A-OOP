{
  "nbformat": 4,
  "nbformat_minor": 0,
  "metadata": {
    "colab": {
      "provenance": [],
      "authorship_tag": "ABX9TyMXNNq2D0N+5J6puxblLeSf",
      "include_colab_link": true
    },
    "kernelspec": {
      "name": "python3",
      "display_name": "Python 3"
    },
    "language_info": {
      "name": "python"
    }
  },
  "cells": [
    {
      "cell_type": "markdown",
      "metadata": {
        "id": "view-in-github",
        "colab_type": "text"
      },
      "source": [
        "<a href=\"https://colab.research.google.com/github/MartinTiong/CPE009A-OOP/blob/main/Hands_on_Activity_3_1.ipynb\" target=\"_parent\"><img src=\"https://colab.research.google.com/assets/colab-badge.svg\" alt=\"Open In Colab\"/></a>"
      ]
    },
    {
      "cell_type": "markdown",
      "source": [
        "Hands on activity 3.1"
      ],
      "metadata": {
        "id": "u-cx6eXh4ATp"
      }
    },
    {
      "cell_type": "markdown",
      "source": [
        "Distance formula"
      ],
      "metadata": {
        "id": "DwIEb2iL6TpD"
      }
    },
    {
      "cell_type": "code",
      "source": [
        "def distance_formula(point1, point2):\n",
        " x1, y1 = point1[\"x\"], point1[\"y\"]\n",
        " x2, y2 = point2[\"x\"], point2[\"y\"]\n",
        " distance = ((x2 - x1) ** 2 + (y2 - y1) ** 2) ** 0.5\n",
        " return distance\n",
        "\n",
        "point1 = {\"x\":1, \"y\":1}\n",
        "point2 = {\"x\":2, \"y\":3}\n",
        "distance = distance_formula(point1, point2)\n",
        "print(\"Distance between\", point1, \"and\", point2, \":\", distance)"
      ],
      "metadata": {
        "colab": {
          "base_uri": "https://localhost:8080/"
        },
        "id": "ZmA6PdSO4H5Q",
        "outputId": "40f6f7f7-8398-45e4-837a-75a8931d6fbf"
      },
      "execution_count": 4,
      "outputs": [
        {
          "output_type": "stream",
          "name": "stdout",
          "text": [
            "Distance between {'x': 1, 'y': 1} and {'x': 2, 'y': 3} : 2.23606797749979\n"
          ]
        }
      ]
    },
    {
      "cell_type": "markdown",
      "source": [
        "Simple word filter"
      ],
      "metadata": {
        "id": "R3UPvG-V6XGD"
      }
    },
    {
      "cell_type": "code",
      "source": [
        "sentence = input(\"Sentence: \")\n",
        "print(sentence.replace('stupid', '******'))"
      ],
      "metadata": {
        "colab": {
          "base_uri": "https://localhost:8080/"
        },
        "id": "UrWANMSp6c9v",
        "outputId": "3e299a43-1fce-4dad-ba68-b1c1e4acb7ee"
      },
      "execution_count": 5,
      "outputs": [
        {
          "output_type": "stream",
          "name": "stdout",
          "text": [
            "Sentence: stipod stupid dog\n",
            "stipod ****** dog\n"
          ]
        }
      ]
    },
    {
      "cell_type": "markdown",
      "source": [
        "Phonebook"
      ],
      "metadata": {
        "id": "L2d-Qvim6kSR"
      }
    },
    {
      "cell_type": "code",
      "source": [
        "def display_contact(phonebook, record_id):\n",
        "  for record in phonebook:\n",
        "      record_info = record.split(\",\")\n",
        "      if int(record_info[0]) == record_id:\n",
        "         print(\"Name:\", record_info[1])\n",
        "         print(\"Contact:\", record_info[2])\n",
        "         print(\"Address:\", record_info[3])\n",
        "         return\n",
        "  print(\"Record not found.\")\n",
        "\n",
        "phonebook = [\n",
        "  \"1,Andrei,555-555,123 Cubao\",\n",
        "  \"2,Martin,444-444,456 Sta. Mesa\",\n",
        "  \"3,Angel,333-333,344 Novaliches\"\n",
        "]\n",
        "\n",
        "record_id = int(input(\"Enter the record id: \"))\n",
        "display_contact(phonebook, record_id)"
      ],
      "metadata": {
        "colab": {
          "base_uri": "https://localhost:8080/"
        },
        "id": "sQ8BpqtKAH9z",
        "outputId": "f353d216-0f44-4bc4-e88b-866d95975449"
      },
      "execution_count": 13,
      "outputs": [
        {
          "output_type": "stream",
          "name": "stdout",
          "text": [
            "Enter the record id: 3\n",
            "Name: Angel\n",
            "Contact: 333-333\n",
            "Address: 344 Novaliches\n"
          ]
        }
      ]
    }
  ]
}