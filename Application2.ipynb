{
  "nbformat": 4,
  "nbformat_minor": 0,
  "metadata": {
    "colab": {
      "provenance": [],
      "authorship_tag": "ABX9TyN+XoizLbvBARKyqTdtSMLx",
      "include_colab_link": true
    },
    "kernelspec": {
      "name": "python3",
      "display_name": "Python 3"
    },
    "language_info": {
      "name": "python"
    }
  },
  "cells": [
    {
      "cell_type": "markdown",
      "metadata": {
        "id": "view-in-github",
        "colab_type": "text"
      },
      "source": [
        "<a href=\"https://colab.research.google.com/github/MartinTiong/CPE009A-OOP/blob/main/Application2.ipynb\" target=\"_parent\"><img src=\"https://colab.research.google.com/assets/colab-badge.svg\" alt=\"Open In Colab\"/></a>"
      ]
    },
    {
      "cell_type": "code",
      "execution_count": 20,
      "metadata": {
        "colab": {
          "base_uri": "https://localhost:8080/"
        },
        "id": "GiO7UXFOskf0",
        "outputId": "50462d3d-6c1d-4d2e-b262-490c92eb1f09"
      },
      "outputs": [
        {
          "output_type": "stream",
          "name": "stdout",
          "text": [
            "Triangle: 3\n",
            "Square: 4\n",
            "Pentagon: 5\n",
            "Hexagon: 6\n",
            "Heptagon: 7\n"
          ]
        }
      ],
      "source": [
        "class Shapes:\n",
        "  def __init__(self, side):\n",
        "    self.__side= side\n",
        "\n",
        "\n",
        "class Triangle(Shapes):\n",
        "  pass\n",
        "class Square(Shapes):\n",
        "  pass\n",
        "class Pentagon(Shapes):\n",
        "  pass\n",
        "class Hexagon(Shapes):\n",
        "  pass\n",
        "class Heptagon(Shapes):\n",
        "  pass\n",
        "\n",
        "Tri = Triangle(\"3\")\n",
        "Squ = Square(\"4\")\n",
        "Pen = Pentagon(\"5\")\n",
        "Hex = Hexagon(\"6\")\n",
        "Hep = Heptagon(\"7\")\n",
        "\n",
        "print(\"Triangle: \"+ Tri._Shapes__side)\n",
        "print(\"Square: \" + Squ._Shapes__side)\n",
        "print(\"Pentagon: \" + Pen._Shapes__side)\n",
        "print(\"Hexagon: \" + Hex._Shapes__side)\n",
        "print(\"Heptagon: \" + Hep._Shapes__side)\n",
        "\n",
        "\n",
        "\n",
        "\n",
        "\n"
      ]
    }
  ]
}