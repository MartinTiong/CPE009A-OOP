{
  "nbformat": 4,
  "nbformat_minor": 0,
  "metadata": {
    "colab": {
      "provenance": [],
      "authorship_tag": "ABX9TyPWySI+WZ3ymIGet6mTRubv",
      "include_colab_link": true
    },
    "kernelspec": {
      "name": "python3",
      "display_name": "Python 3"
    },
    "language_info": {
      "name": "python"
    }
  },
  "cells": [
    {
      "cell_type": "markdown",
      "metadata": {
        "id": "view-in-github",
        "colab_type": "text"
      },
      "source": [
        "<a href=\"https://colab.research.google.com/github/MartinTiong/CPE009A-OOP/blob/main/calculator.ipynb\" target=\"_parent\"><img src=\"https://colab.research.google.com/assets/colab-badge.svg\" alt=\"Open In Colab\"/></a>"
      ]
    },
    {
      "cell_type": "code",
      "execution_count": 1,
      "metadata": {
        "colab": {
          "base_uri": "https://localhost:8080/",
          "height": 332
        },
        "id": "-ZvSM5FnVMIK",
        "outputId": "8d9da9f2-4c87-4113-d3a6-91d2bf8d2441"
      },
      "outputs": [
        {
          "output_type": "error",
          "ename": "TclError",
          "evalue": "no display name and no $DISPLAY environment variable",
          "traceback": [
            "\u001b[0;31m---------------------------------------------------------------------------\u001b[0m",
            "\u001b[0;31mTclError\u001b[0m                                  Traceback (most recent call last)",
            "\u001b[0;32m<ipython-input-1-28c38a4fbf65>\u001b[0m in \u001b[0;36m<cell line: 64>\u001b[0;34m()\u001b[0m\n\u001b[1;32m     62\u001b[0m             \u001b[0mself\u001b[0m\u001b[0;34m.\u001b[0m\u001b[0mtxt3\u001b[0m\u001b[0;34m.\u001b[0m\u001b[0minsert\u001b[0m\u001b[0;34m(\u001b[0m\u001b[0mEND\u001b[0m\u001b[0;34m,\u001b[0m \u001b[0;34m\"Error: Division by zero\"\u001b[0m\u001b[0;34m)\u001b[0m\u001b[0;34m\u001b[0m\u001b[0;34m\u001b[0m\u001b[0m\n\u001b[1;32m     63\u001b[0m \u001b[0;34m\u001b[0m\u001b[0m\n\u001b[0;32m---> 64\u001b[0;31m \u001b[0mwindow\u001b[0m \u001b[0;34m=\u001b[0m \u001b[0mTk\u001b[0m\u001b[0;34m(\u001b[0m\u001b[0;34m)\u001b[0m\u001b[0;34m\u001b[0m\u001b[0;34m\u001b[0m\u001b[0m\n\u001b[0m\u001b[1;32m     65\u001b[0m \u001b[0mmywin\u001b[0m \u001b[0;34m=\u001b[0m \u001b[0mMyWindow\u001b[0m\u001b[0;34m(\u001b[0m\u001b[0mwindow\u001b[0m\u001b[0;34m)\u001b[0m\u001b[0;34m\u001b[0m\u001b[0;34m\u001b[0m\u001b[0m\n\u001b[1;32m     66\u001b[0m \u001b[0mwindow\u001b[0m\u001b[0;34m.\u001b[0m\u001b[0mgeometry\u001b[0m\u001b[0;34m(\u001b[0m\u001b[0;34m\"500x400+10+20\"\u001b[0m\u001b[0;34m)\u001b[0m\u001b[0;34m\u001b[0m\u001b[0;34m\u001b[0m\u001b[0m\n",
            "\u001b[0;32m/usr/lib/python3.10/tkinter/__init__.py\u001b[0m in \u001b[0;36m__init__\u001b[0;34m(self, screenName, baseName, className, useTk, sync, use)\u001b[0m\n\u001b[1;32m   2297\u001b[0m                 \u001b[0mbaseName\u001b[0m \u001b[0;34m=\u001b[0m \u001b[0mbaseName\u001b[0m \u001b[0;34m+\u001b[0m \u001b[0mext\u001b[0m\u001b[0;34m\u001b[0m\u001b[0;34m\u001b[0m\u001b[0m\n\u001b[1;32m   2298\u001b[0m         \u001b[0minteractive\u001b[0m \u001b[0;34m=\u001b[0m \u001b[0;32mFalse\u001b[0m\u001b[0;34m\u001b[0m\u001b[0;34m\u001b[0m\u001b[0m\n\u001b[0;32m-> 2299\u001b[0;31m         \u001b[0mself\u001b[0m\u001b[0;34m.\u001b[0m\u001b[0mtk\u001b[0m \u001b[0;34m=\u001b[0m \u001b[0m_tkinter\u001b[0m\u001b[0;34m.\u001b[0m\u001b[0mcreate\u001b[0m\u001b[0;34m(\u001b[0m\u001b[0mscreenName\u001b[0m\u001b[0;34m,\u001b[0m \u001b[0mbaseName\u001b[0m\u001b[0;34m,\u001b[0m \u001b[0mclassName\u001b[0m\u001b[0;34m,\u001b[0m \u001b[0minteractive\u001b[0m\u001b[0;34m,\u001b[0m \u001b[0mwantobjects\u001b[0m\u001b[0;34m,\u001b[0m \u001b[0museTk\u001b[0m\u001b[0;34m,\u001b[0m \u001b[0msync\u001b[0m\u001b[0;34m,\u001b[0m \u001b[0muse\u001b[0m\u001b[0;34m)\u001b[0m\u001b[0;34m\u001b[0m\u001b[0;34m\u001b[0m\u001b[0m\n\u001b[0m\u001b[1;32m   2300\u001b[0m         \u001b[0;32mif\u001b[0m \u001b[0museTk\u001b[0m\u001b[0;34m:\u001b[0m\u001b[0;34m\u001b[0m\u001b[0;34m\u001b[0m\u001b[0m\n\u001b[1;32m   2301\u001b[0m             \u001b[0mself\u001b[0m\u001b[0;34m.\u001b[0m\u001b[0m_loadtk\u001b[0m\u001b[0;34m(\u001b[0m\u001b[0;34m)\u001b[0m\u001b[0;34m\u001b[0m\u001b[0;34m\u001b[0m\u001b[0m\n",
            "\u001b[0;31mTclError\u001b[0m: no display name and no $DISPLAY environment variable"
          ]
        }
      ],
      "source": [
        "from tkinter import *\n",
        "\n",
        "class MyWindow:\n",
        "    def __init__(self, window):\n",
        "        self.lbl = Label(window, text=\"Simple Calculator\")\n",
        "        self.lbl.place(x=75, y=75)\n",
        "\n",
        "        self.lbl1 = Label(window, text=\"Number 1:\", fg=\"blue\")\n",
        "        self.lbl1.place(x=80, y=100)\n",
        "        self.txt1 = Entry(window, bd=2)\n",
        "        self.txt1.place(x=150, y=100)\n",
        "\n",
        "        self.lbl2 = Label(window, text=\"Number 2:\", fg=\"orange\")\n",
        "        self.lbl2.place(x=80, y=150)\n",
        "        self.txt2 = Entry(window, bd=5)\n",
        "        self.txt2.place(x=150, y=150)\n",
        "\n",
        "        self.btn_add = Button(window, text=\"Add\", command=self.add)\n",
        "        self.btn_add.place(x=80, y=200)\n",
        "\n",
        "        self.btn_sub = Button(window, text=\"Subtract\", command=self.sub)\n",
        "        self.btn_sub.place(x=120, y=200)\n",
        "\n",
        "        self.btn_mul = Button(window, text=\"Multiply\", command=self.mul)\n",
        "        self.btn_mul.place(x=181, y=200)\n",
        "\n",
        "        self.btn_div = Button(window, text=\"Divide\", command=self.div)\n",
        "        self.btn_div.place(x=243, y=200)\n",
        "\n",
        "        self.txt3 = Entry(window)\n",
        "        self.txt3.place(x=100, y=250)\n",
        "\n",
        "    def add(self):\n",
        "        self.txt3.delete(0, 'end')\n",
        "        num1 = int(self.txt1.get())\n",
        "        num2 = int(self.txt2.get())\n",
        "        result = num1 + num2\n",
        "        self.txt3.insert(END, str(result))\n",
        "\n",
        "    def sub(self):\n",
        "        self.txt3.delete(0, 'end')\n",
        "        num1 = int(self.txt1.get())\n",
        "        num2 = int(self.txt2.get())\n",
        "        result = num1 - num2\n",
        "        self.txt3.insert(END, str(result))\n",
        "\n",
        "    def mul(self):\n",
        "        self.txt3.delete(0, 'end')\n",
        "        num1 = int(self.txt1.get())\n",
        "        num2 = int(self.txt2.get())\n",
        "        result = num1 * num2\n",
        "        self.txt3.insert(END, str(result))\n",
        "\n",
        "    def div(self):\n",
        "        self.txt3.delete(0, 'end')\n",
        "        num1 = int(self.txt1.get())\n",
        "        num2 = int(self.txt2.get())\n",
        "        if num2 != 0:\n",
        "            result = num1 / num2\n",
        "            self.txt3.insert(END, str(result))\n",
        "        else:\n",
        "            self.txt3.insert(END, \"Error: Division by zero\")\n",
        "\n",
        "window = Tk()\n",
        "mywin = MyWindow(window)\n",
        "window.geometry(\"500x400+10+20\")\n",
        "window.title(\"Python Project\")\n",
        "window.mainloop()"
      ]
    }
  ]
}