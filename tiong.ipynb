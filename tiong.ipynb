{
  "nbformat": 4,
  "nbformat_minor": 0,
  "metadata": {
    "colab": {
      "provenance": [],
      "authorship_tag": "ABX9TyMUuXpo/cdnXdc/uB724AZO",
      "include_colab_link": true
    },
    "kernelspec": {
      "name": "python3",
      "display_name": "Python 3"
    },
    "language_info": {
      "name": "python"
    }
  },
  "cells": [
    {
      "cell_type": "markdown",
      "metadata": {
        "id": "view-in-github",
        "colab_type": "text"
      },
      "source": [
        "<a href=\"https://colab.research.google.com/github/MartinTiong/CPE009A-OOP/blob/main/tiong.ipynb\" target=\"_parent\"><img src=\"https://colab.research.google.com/assets/colab-badge.svg\" alt=\"Open In Colab\"/></a>"
      ]
    },
    {
      "cell_type": "markdown",
      "source": [
        "1. Distance Formula"
      ],
      "metadata": {
        "id": "sj074jM99U5X"
      }
    },
    {
      "cell_type": "code",
      "source": [
        "def distance_formula(point1, point2):\n",
        "    x1, y1 = point1[\"x\"], point1[\"y\"]\n",
        "    x2, y2 = point2[\"x\"], point2[\"y\"]\n",
        "    distance = ((x2 - x1) ** 2 + (y2 - y1) ** 2) ** 0.5\n",
        "    return distance\n",
        "\n",
        "point1 = {\"x\":1, \"y\":1}\n",
        "point2 = {\"x\":2, \"y\":3}\n",
        "distance = distance_formula(point1, point2)\n",
        "print(\"Distance between\", point1, \"and\", point2, \":\", distance)"
      ],
      "metadata": {
        "id": "7_AlV79c9h_l",
        "colab": {
          "base_uri": "https://localhost:8080/"
        },
        "outputId": "200c30d8-9376-421d-81ef-dde0ac0101ed"
      },
      "execution_count": 3,
      "outputs": [
        {
          "output_type": "stream",
          "name": "stdout",
          "text": [
            "Distance between {'x': 1, 'y': 1} and {'x': 2, 'y': 3} : 2.23606797749979\n"
          ]
        }
      ]
    },
    {
      "cell_type": "markdown",
      "source": [
        "2. Simple word filter"
      ],
      "metadata": {
        "id": "ZUFWTR5T9nsW"
      }
    },
    {
      "cell_type": "code",
      "source": [
        "def word_filter(input_string):\n",
        "\n",
        "    words = input_string.split()\n",
        "\n",
        "\n",
        "    for i in range(len(words)):\n",
        "        if words[i] == \"stupid\":\n",
        "\n",
        "            words[i] = \"*\" * len(\"stupid\")\n",
        "\n",
        "    filtered_string = \" \".join(words)\n",
        "\n",
        "    return filtered_string\n",
        "\n",
        "input_string = \"I'm stupid\"\n",
        "filtered_string = word_filter(input_string)\n",
        "print(filtered_string)"
      ],
      "metadata": {
        "colab": {
          "base_uri": "https://localhost:8080/"
        },
        "id": "HHbQwQ2q9sSX",
        "outputId": "4513c905-6c5b-474b-fb2c-e0512189fa33"
      },
      "execution_count": null,
      "outputs": [
        {
          "output_type": "stream",
          "name": "stdout",
          "text": [
            "I'm ******\n"
          ]
        }
      ]
    },
    {
      "cell_type": "markdown",
      "source": [
        "3. Phonebook"
      ],
      "metadata": {
        "id": "tJFtBspj9smo"
      }
    },
    {
      "cell_type": "code",
      "source": [
        "def display_contact(phonebook, record_id):\n",
        "    for contact in phonebook:\n",
        "        if contact[\"id\"] == record_id:\n",
        "            print(\"Name:\", contact[\"name\"])\n",
        "            print(\"Contact:\", contact[\"contact\"])\n",
        "            print(\"Address:\", contact[\"address\"])\n",
        "            return\n",
        "    print(\"Record not found.\")\n",
        "phonebook = [\n",
        "    {\"id\": 1, \"name\": \"Andrei\", \"contact\": \"555-555\", \"address\": \"123, Cubao\"},\n",
        "    {\"id\": 2, \"name\": \"Martin\", \"contact\": \"444-444\", \"address\": \"456, Sta. Mesa\"}\n",
        "]\n",
        "\n",
        "# Test the program\n",
        "record_id = int(input(\"Enter the record id: \"))\n",
        "display_contact(phonebook, record_id)"
      ],
      "metadata": {
        "colab": {
          "base_uri": "https://localhost:8080/"
        },
        "id": "8HclgV3B9vHz",
        "outputId": "c20c0b6b-3d5a-4376-e53b-e2d03539021f"
      },
      "execution_count": null,
      "outputs": [
        {
          "output_type": "stream",
          "name": "stdout",
          "text": [
            "Enter the record id: 2\n",
            "Name: Martin\n",
            "Contact: 444-444\n",
            "Address: 456, Sta. Mesa\n"
          ]
        }
      ]
    }
  ]
}