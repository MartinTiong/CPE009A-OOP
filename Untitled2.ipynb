{
  "nbformat": 4,
  "nbformat_minor": 0,
  "metadata": {
    "colab": {
      "provenance": [],
      "authorship_tag": "ABX9TyNKbGZOLDsbvZdTqG6q3EGv",
      "include_colab_link": true
    },
    "kernelspec": {
      "name": "python3",
      "display_name": "Python 3"
    },
    "language_info": {
      "name": "python"
    }
  },
  "cells": [
    {
      "cell_type": "markdown",
      "metadata": {
        "id": "view-in-github",
        "colab_type": "text"
      },
      "source": [
        "<a href=\"https://colab.research.google.com/github/MartinTiong/CPE009A-OOP/blob/main/Untitled2.ipynb\" target=\"_parent\"><img src=\"https://colab.research.google.com/assets/colab-badge.svg\" alt=\"Open In Colab\"/></a>"
      ]
    },
    {
      "cell_type": "markdown",
      "source": [
        "Hands-on-activity 3.1"
      ],
      "metadata": {
        "id": "OnlHYHzxvb68"
      }
    },
    {
      "cell_type": "markdown",
      "source": [
        "Members: Lhei Matthew Escalada,\n",
        "Zachary Hernandez,\n",
        "Joshua Madriaga,\n",
        "Peji Mendoza,\n",
        "Ruselle Pituc,\n",
        "Martin Tiong\n"
      ],
      "metadata": {
        "id": "m-KzzpkKvi48"
      }
    },
    {
      "cell_type": "markdown",
      "source": [
        "Section: CPE12S6"
      ],
      "metadata": {
        "id": "RTV1Juvbv-pb"
      }
    },
    {
      "cell_type": "markdown",
      "source": [
        "Date performed: April 7, 2024"
      ],
      "metadata": {
        "id": "HEKvziDSwFDD"
      }
    },
    {
      "cell_type": "markdown",
      "source": [
        "Distance Formula\n",
        "1. Make a program that would calculate the distance between two points given a list of coordinates. Use the distance\n",
        "formula."
      ],
      "metadata": {
        "id": "pG6HbPaWwLcb"
      }
    },
    {
      "cell_type": "code",
      "source": [],
      "metadata": {
        "id": "5zcjM2aLvuhD"
      },
      "execution_count": null,
      "outputs": []
    },
    {
      "cell_type": "markdown",
      "source": [
        "Simple Word Filter\n",
        "2. For a given string input, replace all the words “stupid” with an asterisk * equal to the length of the string. The new\n",
        "string value should be displayed with the asterisks."
      ],
      "metadata": {
        "id": "3v8EhnmgwVMb"
      }
    },
    {
      "cell_type": "code",
      "source": [],
      "metadata": {
        "id": "roeHUg8LwYz7"
      },
      "execution_count": null,
      "outputs": []
    },
    {
      "cell_type": "markdown",
      "source": [
        "Phonebook\n",
        "3. Create a simple phonebook program that can read from a list of dictionaries. The program should be able to display a\n",
        "person’s name, contact, and address based from a user input which is the id of the record"
      ],
      "metadata": {
        "id": "sYOwgXCuwZEE"
      }
    },
    {
      "cell_type": "code",
      "source": [],
      "metadata": {
        "id": "vuvPSvaGwdjc"
      },
      "execution_count": null,
      "outputs": []
    },
    {
      "cell_type": "markdown",
      "source": [
        "Questions"
      ],
      "metadata": {
        "id": "_g-J11xBwgtL"
      }
    },
    {
      "cell_type": "markdown",
      "source": [
        "1. How do we display elements of lists, tuples, and strings?"
      ],
      "metadata": {
        "id": "onc6zij_wlTb"
      }
    },
    {
      "cell_type": "markdown",
      "source": [],
      "metadata": {
        "id": "dl2d_jjow7hL"
      }
    },
    {
      "cell_type": "markdown",
      "source": [
        "2. What is the difference between a list, tuple, string and dictionary? Give possible use case for each."
      ],
      "metadata": {
        "id": "IcTHxbcDw8B1"
      }
    },
    {
      "cell_type": "markdown",
      "source": [],
      "metadata": {
        "id": "bUb1oc9Ow_wq"
      }
    },
    {
      "cell_type": "markdown",
      "source": [
        "3. Discuss the various string methods that were used in the activity. What does each of the methods do?"
      ],
      "metadata": {
        "id": "8Y_CWGV_xAHT"
      }
    },
    {
      "cell_type": "markdown",
      "source": [],
      "metadata": {
        "id": "kOyA0UaMxEps"
      }
    },
    {
      "cell_type": "markdown",
      "source": [
        "Conclusion:"
      ],
      "metadata": {
        "id": "4ttdZvDKxFcE"
      }
    },
    {
      "cell_type": "markdown",
      "source": [],
      "metadata": {
        "id": "v7amKRtVxJE6"
      }
    }
  ]
}