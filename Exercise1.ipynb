{
  "nbformat": 4,
  "nbformat_minor": 0,
  "metadata": {
    "colab": {
      "provenance": [],
      "authorship_tag": "ABX9TyP0t+/DGPZVmPbTaV7cgn+h",
      "include_colab_link": true
    },
    "kernelspec": {
      "name": "python3",
      "display_name": "Python 3"
    },
    "language_info": {
      "name": "python"
    }
  },
  "cells": [
    {
      "cell_type": "markdown",
      "metadata": {
        "id": "view-in-github",
        "colab_type": "text"
      },
      "source": [
        "<a href=\"https://colab.research.google.com/github/MartinTiong/CPE009A-OOP/blob/main/Exercise1.ipynb\" target=\"_parent\"><img src=\"https://colab.research.google.com/assets/colab-badge.svg\" alt=\"Open In Colab\"/></a>"
      ]
    },
    {
      "cell_type": "code",
      "execution_count": null,
      "metadata": {
        "id": "DJbZ71gOTcUh"
      },
      "outputs": [],
      "source": [
        "Algorithm to get the perimeter and area of a rectangle"
      ]
    },
    {
      "cell_type": "markdown",
      "source": [
        "1. find the length and width for the area\n",
        "2. multiply length and width\n",
        "3. the product is the area of the rectangle\n",
        "4. for the perimeter of a rectangle\n",
        "5. add the length and width of a rectangle\n",
        "6. multiply sum to 2\n",
        "7. Final answer is the perimeter of the rectangle"
      ],
      "metadata": {
        "id": "F1YZKMbVUBcZ"
      }
    },
    {
      "cell_type": "markdown",
      "source": [
        "Pseudocode"
      ],
      "metadata": {
        "id": "gNx_CdVYVNyy"
      }
    },
    {
      "cell_type": "markdown",
      "source": [
        "Start\n",
        "initialize length=0, width=0, area=0, LW=0, perimeter=0\n",
        "input length\n",
        "input width\n",
        "area = length * width\n",
        "output area\n",
        "sum = length + width\n",
        "perimeter = sum*2\n",
        "output perimeter\n",
        "End"
      ],
      "metadata": {
        "id": "L3SzwIOrVRQ6"
      }
    },
    {
      "cell_type": "code",
      "source": [
        "print(\"Area of a rectangle\")\n",
        "print(\"Input length\")\n",
        "length = input()\n",
        "print(\"Input width\")\n",
        "width = input()\n",
        "area = int(length)*int(width)\n",
        "print(\"Area:\")\n",
        "print(area)\n",
        "print(\"Perimeter of a rectangle\")\n",
        "sum = int(length) + int(width)\n",
        "perimeter = sum*2\n",
        "print(\"Perimeter:\")\n",
        "print(perimeter)\n"
      ],
      "metadata": {
        "colab": {
          "base_uri": "https://localhost:8080/"
        },
        "id": "Nxl6HdwrWpXa",
        "outputId": "d0bd73ce-be4d-401b-d15b-3c7b3e57b96f"
      },
      "execution_count": 3,
      "outputs": [
        {
          "output_type": "stream",
          "name": "stdout",
          "text": [
            "Area of a rectangle\n",
            "Input length\n",
            "40\n",
            "Input width\n",
            "20\n",
            "Area:\n",
            "800\n",
            "Perimeter of a rectangle\n",
            "Perimeter:\n",
            "120\n"
          ]
        }
      ]
    }
  ]
}