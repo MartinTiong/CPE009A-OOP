{
  "nbformat": 4,
  "nbformat_minor": 0,
  "metadata": {
    "colab": {
      "provenance": [],
      "authorship_tag": "ABX9TyPVWM8zh0CYRGMXoeKR0oLb",
      "include_colab_link": true
    },
    "kernelspec": {
      "name": "python3",
      "display_name": "Python 3"
    },
    "language_info": {
      "name": "python"
    }
  },
  "cells": [
    {
      "cell_type": "markdown",
      "metadata": {
        "id": "view-in-github",
        "colab_type": "text"
      },
      "source": [
        "<a href=\"https://colab.research.google.com/github/MartinTiong/CPE009A-OOP/blob/main/Demo3.ipynb\" target=\"_parent\"><img src=\"https://colab.research.google.com/assets/colab-badge.svg\" alt=\"Open In Colab\"/></a>"
      ]
    },
    {
      "cell_type": "markdown",
      "source": [
        "Conditional statement in python\n",
        "- control structure:\n"
      ],
      "metadata": {
        "id": "pBiWNXKVNPWR"
      }
    },
    {
      "cell_type": "markdown",
      "source": [
        "1. If statement"
      ],
      "metadata": {
        "id": "Q0stAAutPYRx"
      }
    },
    {
      "cell_type": "code",
      "execution_count": 8,
      "metadata": {
        "colab": {
          "base_uri": "https://localhost:8080/"
        },
        "id": "XAD2QlhPNHcV",
        "outputId": "22bd8576-d83e-4981-99dd-f2b37164db54"
      },
      "outputs": [
        {
          "output_type": "stream",
          "name": "stdout",
          "text": [
            "b is greater than a\n"
          ]
        }
      ],
      "source": [
        "a = 12\n",
        "b = 100\n",
        "if b>a:\n",
        "  print(\"b is greater than a\")"
      ]
    },
    {
      "cell_type": "markdown",
      "source": [
        "2. elif statement"
      ],
      "metadata": {
        "id": "ZoaBilHiNNe6"
      }
    },
    {
      "cell_type": "code",
      "source": [
        "a= 12\n",
        "b=12\n",
        "if a>b:\n",
        "  print(\"a is greater than b\")\n",
        "elif a==b:\n",
        "  print(\"a and b is equal\")"
      ],
      "metadata": {
        "colab": {
          "base_uri": "https://localhost:8080/"
        },
        "id": "fG83BAGnPQ-J",
        "outputId": "c5498317-7d01-44f3-9061-272fb35ce389"
      },
      "execution_count": 13,
      "outputs": [
        {
          "output_type": "stream",
          "name": "stdout",
          "text": [
            "a and b is equal\n"
          ]
        }
      ]
    },
    {
      "cell_type": "markdown",
      "source": [
        "3. else statement"
      ],
      "metadata": {
        "id": "EAzWPoW2Qa4J"
      }
    },
    {
      "cell_type": "code",
      "source": [
        "a= 200\n",
        "b=33\n",
        "if b>a:\n",
        "  print(\"b is greater than a\")\n",
        "elif a==b:\n",
        "  print(\"a and b are equal\")\n",
        "else:\n",
        " print(\"a is greater than b\")"
      ],
      "metadata": {
        "colab": {
          "base_uri": "https://localhost:8080/"
        },
        "id": "dQwbIh7sQebw",
        "outputId": "38ed0513-4aac-4cd3-e6a0-e28d730abb05"
      },
      "execution_count": 16,
      "outputs": [
        {
          "output_type": "stream",
          "name": "stdout",
          "text": [
            "a is greater than b\n"
          ]
        }
      ]
    },
    {
      "cell_type": "markdown",
      "source": [
        "4. Short hand if statement"
      ],
      "metadata": {
        "id": "Uo_krN6dSMgZ"
      }
    },
    {
      "cell_type": "code",
      "source": [
        "a= 2\n",
        "b = 330\n",
        "if b>a: print(\"B\")\n",
        "else:\n",
        " print(\"a is greater than b\")"
      ],
      "metadata": {
        "colab": {
          "base_uri": "https://localhost:8080/"
        },
        "id": "aTNJrmPOSSIA",
        "outputId": "3103af36-f089-4b84-b105-7d0afd9af894"
      },
      "execution_count": 24,
      "outputs": [
        {
          "output_type": "stream",
          "name": "stdout",
          "text": [
            "B\n"
          ]
        }
      ]
    },
    {
      "cell_type": "code",
      "source": [
        "if a>b: print(\"a is greater than b\")"
      ],
      "metadata": {
        "id": "atSflJ_GShlQ"
      },
      "execution_count": 18,
      "outputs": []
    },
    {
      "cell_type": "markdown",
      "source": [
        "5. Short hand if else statement"
      ],
      "metadata": {
        "id": "WTHvmnGsTNWB"
      }
    },
    {
      "cell_type": "code",
      "source": [
        "a= 2\n",
        "b=330\n",
        "print(\"A\") if a>b else print (\"B\")"
      ],
      "metadata": {
        "colab": {
          "base_uri": "https://localhost:8080/"
        },
        "id": "odhrvJqSTj44",
        "outputId": "78b8604a-92cc-4de6-9d83-9470030ddf77"
      },
      "execution_count": 25,
      "outputs": [
        {
          "output_type": "stream",
          "name": "stdout",
          "text": [
            "B\n"
          ]
        }
      ]
    },
    {
      "cell_type": "markdown",
      "source": [
        "6. And both conditions are true"
      ],
      "metadata": {
        "id": "h1dfTcAQTw6p"
      }
    },
    {
      "cell_type": "code",
      "source": [
        "a =200\n",
        "b=33\n",
        "c=500\n",
        "if a>b and c>a:\n",
        "  print(\"Both conditions are true\")"
      ],
      "metadata": {
        "colab": {
          "base_uri": "https://localhost:8080/"
        },
        "id": "1-HF5cVuT2qA",
        "outputId": "0142315b-aace-4773-e173-b4ce831bda80"
      },
      "execution_count": 28,
      "outputs": [
        {
          "output_type": "stream",
          "name": "stdout",
          "text": [
            "Both conditions are true\n"
          ]
        }
      ]
    },
    {
      "cell_type": "markdown",
      "source": [
        "7. 0r at least one of the conditions is true\n"
      ],
      "metadata": {
        "id": "XJVe6i57Uc-p"
      }
    },
    {
      "cell_type": "code",
      "source": [
        "a= 200\n",
        "b=33\n",
        "c=55\n",
        "if a>b or a>c:\n",
        "  print(\"Atleast one of the conditions is true\")"
      ],
      "metadata": {
        "colab": {
          "base_uri": "https://localhost:8080/"
        },
        "id": "yEeRZd90Ulrg",
        "outputId": "a01c60eb-5ea1-4ad0-830a-8f2dc2270865"
      },
      "execution_count": 29,
      "outputs": [
        {
          "output_type": "stream",
          "name": "stdout",
          "text": [
            "Atleast one of the conditions is true\n"
          ]
        }
      ]
    },
    {
      "cell_type": "markdown",
      "source": [
        "8. Nested if"
      ],
      "metadata": {
        "id": "D0NXOXzyVDmw"
      }
    },
    {
      "cell_type": "code",
      "source": [
        "x= 50\n",
        "if x<10:\n",
        "  print(\"Not above 10\")\n",
        "  if x>10:\n",
        "    print(\"Above 10\")\n",
        "  if x>20:\n",
        "    print(\"And also above 20!\")\n",
        "    if x>30:\n",
        "      print(\"And also above 30!\")\n",
        "      if x>40:\n",
        "        print(\"And also above 40!\")\n",
        "        if x>50:\n",
        "          print(\"And also above 50!\")\n",
        "        else:\n",
        "            print(\"but not above 50\")\n",
        "      else:\n",
        "          print(\"but not above 40\")\n",
        "    else:\n",
        "         print(\"but not above 30\")\n",
        "  else:\n",
        "        print(\"but not above 20\")\n"
      ],
      "metadata": {
        "id": "8DbXyT3SVHvB"
      },
      "execution_count": 58,
      "outputs": []
    },
    {
      "cell_type": "markdown",
      "source": [
        "Example 1 : write a program that determines if the input age is qualified to vote or not. The qualifying age is 18 and above"
      ],
      "metadata": {
        "id": "NK_z7rgeb4iw"
      }
    },
    {
      "cell_type": "code",
      "source": [
        "\n",
        "age = int(input(\"Enter age: \"))\n",
        "if age >= 18:\n",
        "  print(\"You are qualified to vote\")\n",
        "else:\n",
        "    print(\"You are not qualified to vote\")"
      ],
      "metadata": {
        "colab": {
          "base_uri": "https://localhost:8080/"
        },
        "id": "n0_fPqlHctq3",
        "outputId": "2cd74529-2b3b-45d6-8853-d9b82c25392f"
      },
      "execution_count": 82,
      "outputs": [
        {
          "output_type": "stream",
          "name": "stdout",
          "text": [
            "Enter age: 15\n",
            "You are not qualified to vote\n"
          ]
        }
      ]
    },
    {
      "cell_type": "markdown",
      "source": [
        "Example 2: Write a program that determines If the input of number is positive. negative or zero"
      ],
      "metadata": {
        "id": "vDa1jen0csp3"
      }
    },
    {
      "cell_type": "code",
      "source": [
        "num = int(input(\"Enter a number:\"))\n",
        "if num>0:\n",
        "  print(\"Positive\")\n",
        "elif num==0:\n",
        "    print(\"Zero\")\n",
        "else:\n",
        "  print(\"Negative\")"
      ],
      "metadata": {
        "colab": {
          "base_uri": "https://localhost:8080/"
        },
        "id": "yxNBCh0Ec77O",
        "outputId": "94e38184-fbea-42a7-c4d1-6875872308ea"
      },
      "execution_count": 70,
      "outputs": [
        {
          "output_type": "stream",
          "name": "stdout",
          "text": [
            "Enter a number:-4\n",
            "Negative\n"
          ]
        }
      ]
    },
    {
      "cell_type": "markdown",
      "source": [
        "Example 3: Write a program to determine if the grades are:\n",
        "if grade>=70 \"passed\", of grade is 65 to 69, \"remedial\", if grade is 64 or below \"failed\". note: if grade is a negative number, it will not be accepted."
      ],
      "metadata": {
        "id": "TLqv5sK-c8O4"
      }
    },
    {
      "cell_type": "code",
      "source": [
        "grade = float(input(\"Enter grade:\"))\n",
        "if grade>=70:\n",
        " print(\"Passed\")\n",
        "elif grade>66 and grade<69:\n",
        "  print(\"Remedial\")\n",
        "elif grade<=64:\n",
        "    print(\"Failed\")\n",
        "elif grade<0:\n",
        "  print(\"Invalid\")"
      ],
      "metadata": {
        "colab": {
          "base_uri": "https://localhost:8080/"
        },
        "id": "uR4sWoiagiN9",
        "outputId": "1c0a4ed7-cec5-44e8-a419-bf21c7165bc3"
      },
      "execution_count": 87,
      "outputs": [
        {
          "output_type": "stream",
          "name": "stdout",
          "text": [
            "Enter grade:-7\n",
            "Failed\n"
          ]
        }
      ]
    }
  ]
}