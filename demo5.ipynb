{
  "nbformat": 4,
  "nbformat_minor": 0,
  "metadata": {
    "colab": {
      "provenance": [],
      "authorship_tag": "ABX9TyPd3Z0TNKGY0Xo7NL/LY75G",
      "include_colab_link": true
    },
    "kernelspec": {
      "name": "python3",
      "display_name": "Python 3"
    },
    "language_info": {
      "name": "python"
    }
  },
  "cells": [
    {
      "cell_type": "markdown",
      "metadata": {
        "id": "view-in-github",
        "colab_type": "text"
      },
      "source": [
        "<a href=\"https://colab.research.google.com/github/MartinTiong/CPE009A-OOP/blob/main/demo5.ipynb\" target=\"_parent\"><img src=\"https://colab.research.google.com/assets/colab-badge.svg\" alt=\"Open In Colab\"/></a>"
      ]
    },
    {
      "cell_type": "markdown",
      "source": [],
      "metadata": {
        "id": "KCBvZBqohhWq"
      }
    },
    {
      "cell_type": "code",
      "execution_count": 3,
      "metadata": {
        "colab": {
          "base_uri": "https://localhost:8080/"
        },
        "id": "VgVrR_8zhW9U",
        "outputId": "cd733c77-cc38-478e-ad38-afce5ddfc10e"
      },
      "outputs": [
        {
          "output_type": "stream",
          "name": "stdout",
          "text": [
            "<__main__.Car object at 0x7f42ab6f3a60>\n"
          ]
        }
      ],
      "source": [
        "class Car:\n",
        "  pass\n",
        "obj1=Car()\n",
        "print(obj1)"
      ]
    },
    {
      "cell_type": "code",
      "source": [
        "class Car:\n",
        "  def _init_(self,name,color,mileage):\n",
        "    self.name= name\n",
        "    self.color = color\n",
        "    self.mileage= mileage\n",
        "    obj1= Car(\"BMW\", \"Red\", 1000)\n",
        "    obj2= Car(\"Toyota\", \"Blue\", 1200)\n",
        "    print(obj1.name)\n",
        "    print(obj1.color)\n",
        "    print(obj1.mileage)\n",
        "\n",
        "    print(obj2.mileage)"
      ],
      "metadata": {
        "id": "VwL4cQjGioug"
      },
      "execution_count": 9,
      "outputs": []
    },
    {
      "cell_type": "markdown",
      "source": [
        "Exercise: Application 1"
      ],
      "metadata": {
        "id": "CSdNT11Vmoah"
      }
    },
    {
      "cell_type": "markdown",
      "source": [
        "Write a python program that prits your student infromation with the following attributes: Name, Age, Course, and section. Use class name student"
      ],
      "metadata": {
        "id": "jDU8WtU6m2EY"
      }
    },
    {
      "cell_type": "code",
      "source": [
        "class Student:\n",
        "  def _init_ (self, Name, Age, Course, Section):\n",
        "    self.Name= Name\n",
        "    self.Age= Age\n",
        "    self.Course= Course\n",
        "    self.Section= Section\n",
        "    obj1= Student(\"Martin Andrei C. Tiong\", 19, \"Computer Engineering\", \"CPE12S6\")\n",
        "    print(\"Student:\",obj1.Name )\n",
        "    print(\"Age:\",obj1.Age)\n",
        "    print(\"Course:\",obj1.Course)\n",
        "    print(\"Section:\",obj1.Section)"
      ],
      "metadata": {
        "id": "XDiPpCxZnE9L"
      },
      "execution_count": 13,
      "outputs": []
    }
  ]
}