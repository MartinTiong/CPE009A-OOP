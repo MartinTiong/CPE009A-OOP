{
  "nbformat": 4,
  "nbformat_minor": 0,
  "metadata": {
    "colab": {
      "provenance": [],
      "authorship_tag": "ABX9TyPClVfXh/yEw0tX8dbGwnfI",
      "include_colab_link": true
    },
    "kernelspec": {
      "name": "python3",
      "display_name": "Python 3"
    },
    "language_info": {
      "name": "python"
    }
  },
  "cells": [
    {
      "cell_type": "markdown",
      "metadata": {
        "id": "view-in-github",
        "colab_type": "text"
      },
      "source": [
        "<a href=\"https://colab.research.google.com/github/MartinTiong/CPE009A-OOP/blob/main/Tiong_Martin_Andrei_C_Prelim_Exam.ipynb\" target=\"_parent\"><img src=\"https://colab.research.google.com/assets/colab-badge.svg\" alt=\"Open In Colab\"/></a>"
      ]
    },
    {
      "cell_type": "code",
      "execution_count": 6,
      "metadata": {
        "colab": {
          "base_uri": "https://localhost:8080/"
        },
        "id": "ofS6EUJFvU4l",
        "outputId": "89600d48-c06b-44e6-e0d3-e938ce78087c"
      },
      "outputs": [
        {
          "output_type": "stream",
          "name": "stdout",
          "text": [
            "Enter your full name:martin andrei tiong\n",
            "Enter your age:19\n",
            "Full name and age : martin andrei tiong and 19\n"
          ]
        }
      ],
      "source": [
        "fullname = input(\"Enter your full name:\")\n",
        "age =input(\"Enter your age:\")\n",
        "print(\"Full name and age : \" + fullname +\" \"+  \"and\" + \" \"+ age)\n"
      ]
    }
  ]
}