{
  "nbformat": 4,
  "nbformat_minor": 0,
  "metadata": {
    "colab": {
      "provenance": [],
      "authorship_tag": "ABX9TyNItPD0UmXQUdWXNPo59akh",
      "include_colab_link": true
    },
    "kernelspec": {
      "name": "python3",
      "display_name": "Python 3"
    },
    "language_info": {
      "name": "python"
    }
  },
  "cells": [
    {
      "cell_type": "markdown",
      "metadata": {
        "id": "view-in-github",
        "colab_type": "text"
      },
      "source": [
        "<a href=\"https://colab.research.google.com/github/MartinTiong/CPE009A-OOP/blob/main/Demo1.ipynb\" target=\"_parent\"><img src=\"https://colab.research.google.com/assets/colab-badge.svg\" alt=\"Open In Colab\"/></a>"
      ]
    },
    {
      "cell_type": "code",
      "execution_count": null,
      "metadata": {
        "id": "TYN2yccIHFaq"
      },
      "outputs": [],
      "source": []
    },
    {
      "cell_type": "markdown",
      "source": [
        "\n",
        "Python Indentation"
      ],
      "metadata": {
        "id": "c9gWGZxfH84U"
      }
    },
    {
      "cell_type": "code",
      "source": [
        "if 5>2:\n",
        "  print(\"Five is greater than two\")\n",
        "\n",
        "\n"
      ],
      "metadata": {
        "colab": {
          "base_uri": "https://localhost:8080/"
        },
        "id": "xdanylFbIVdC",
        "outputId": "059647c8-ddbd-4841-c2fa-3cf11bd9215b"
      },
      "execution_count": 1,
      "outputs": [
        {
          "output_type": "stream",
          "name": "stdout",
          "text": [
            "Five is greater than two\n"
          ]
        }
      ]
    },
    {
      "cell_type": "markdown",
      "source": [
        "Python Comments"
      ],
      "metadata": {
        "id": "-pxNBQs8KEjq"
      }
    },
    {
      "cell_type": "code",
      "source": [
        "if 5>2:\n",
        "  print(\"Five is greater than two\") #comparison of number 5 and 2"
      ],
      "metadata": {
        "colab": {
          "base_uri": "https://localhost:8080/"
        },
        "id": "oPfRCEzIH5dV",
        "outputId": "43c96d88-2dec-4105-ff80-65abde9c8db9"
      },
      "execution_count": 2,
      "outputs": [
        {
          "output_type": "stream",
          "name": "stdout",
          "text": [
            "Five is greater than two\n"
          ]
        }
      ]
    },
    {
      "cell_type": "markdown",
      "source": [],
      "metadata": {
        "id": "dsfH2R_rKx25"
      }
    },
    {
      "cell_type": "code",
      "source": [
        "#comment\n",
        "print(\"Hello World\")"
      ],
      "metadata": {
        "colab": {
          "base_uri": "https://localhost:8080/"
        },
        "id": "CQR-bccdKkFB",
        "outputId": "ec606f3a-e8ec-4db6-8d6a-a1c2ab2dd229"
      },
      "execution_count": 4,
      "outputs": [
        {
          "output_type": "stream",
          "name": "stdout",
          "text": [
            "Hello World\n"
          ]
        }
      ]
    },
    {
      "cell_type": "markdown",
      "source": [
        "Variable naming conventions\n"
      ],
      "metadata": {
        "id": "ZHR3YSKcK49R"
      }
    },
    {
      "cell_type": "markdown",
      "source": [
        "Python Variable\n",
        "\n"
      ],
      "metadata": {
        "id": "CEhO3tLdLdQi"
      }
    },
    {
      "cell_type": "code",
      "source": [
        "x=1 #This is a single variable with a value\n",
        "a,b=0,-1\n",
        "a,b,c=0,-1,2\n",
        "print(a)\n",
        "print(b)\n",
        "print(x)\n",
        "b=\"Sally\"\n",
        "print(b)\n"
      ],
      "metadata": {
        "colab": {
          "base_uri": "https://localhost:8080/"
        },
        "id": "we9PP_TOLl9J",
        "outputId": "b33689cd-8ae3-4aaa-ba22-57c0f69d42d9"
      },
      "execution_count": 12,
      "outputs": [
        {
          "output_type": "stream",
          "name": "stdout",
          "text": [
            "0\n",
            "-1\n",
            "1\n",
            "Sally\n"
          ]
        }
      ]
    },
    {
      "cell_type": "markdown",
      "source": [
        "Casting\n"
      ],
      "metadata": {
        "id": "_P_oUi8hNe_o"
      }
    },
    {
      "cell_type": "code",
      "source": [
        "b=\"sally\" #This is a typer of string\n",
        "b=int(4)\n",
        "print(b)\n",
        "b=float(4)\n",
        "print(b)\n"
      ],
      "metadata": {
        "colab": {
          "base_uri": "https://localhost:8080/"
        },
        "id": "fcwdKeV-Nl55",
        "outputId": "fcf3602a-d153-4464-fd95-813a052b8fcf"
      },
      "execution_count": 13,
      "outputs": [
        {
          "output_type": "stream",
          "name": "stdout",
          "text": [
            "4\n",
            "4.0\n"
          ]
        }
      ]
    },
    {
      "cell_type": "code",
      "source": [],
      "metadata": {
        "id": "RNp_iHLGOD9Q"
      },
      "execution_count": null,
      "outputs": []
    },
    {
      "cell_type": "markdown",
      "source": [
        "Type function\n"
      ],
      "metadata": {
        "id": "gky2tygoN8ux"
      }
    },
    {
      "cell_type": "code",
      "source": [
        "x=5\n",
        "y=\"John\"\n",
        "print(type(x))\n",
        "print(type(y))"
      ],
      "metadata": {
        "colab": {
          "base_uri": "https://localhost:8080/"
        },
        "id": "MrRx6RX2O1ig",
        "outputId": "46ee7c1d-90cf-49ab-9190-b3e81355b4b0"
      },
      "execution_count": 14,
      "outputs": [
        {
          "output_type": "stream",
          "name": "stdout",
          "text": [
            "<class 'int'>\n",
            "<class 'str'>\n"
          ]
        }
      ]
    },
    {
      "cell_type": "markdown",
      "source": [
        "\"Double quotes or 'Single quotes'"
      ],
      "metadata": {
        "id": "-ckaSfUAPRPR"
      }
    },
    {
      "cell_type": "code",
      "source": [
        "y=\"John\"\n",
        "print(y)\n",
        "y='John'\n",
        "print(y)"
      ],
      "metadata": {
        "colab": {
          "base_uri": "https://localhost:8080/"
        },
        "id": "EMswsJGUPW1I",
        "outputId": "8677bee7-06ac-4bb4-e8f4-af0ce831f521"
      },
      "execution_count": 17,
      "outputs": [
        {
          "output_type": "stream",
          "name": "stdout",
          "text": [
            "John\n",
            "John\n"
          ]
        }
      ]
    },
    {
      "cell_type": "markdown",
      "source": [
        "Case Sensitive"
      ],
      "metadata": {
        "id": "gPa3_ACTPzdZ"
      }
    },
    {
      "cell_type": "code",
      "source": [
        "a=4\n",
        "A=\"Sally\"\n",
        "#A will not overwrite a\n",
        "print(A)\n",
        "print(a)"
      ],
      "metadata": {
        "colab": {
          "base_uri": "https://localhost:8080/"
        },
        "id": "H7AP0-WnP2c3",
        "outputId": "68791236-b085-4f0a-a775-851740ca3fa2"
      },
      "execution_count": 20,
      "outputs": [
        {
          "output_type": "stream",
          "name": "stdout",
          "text": [
            "Sally\n",
            "4\n"
          ]
        }
      ]
    },
    {
      "cell_type": "markdown",
      "source": [
        "Multiple Variables"
      ],
      "metadata": {
        "id": "wScjviwxQLSY"
      }
    },
    {
      "cell_type": "code",
      "source": [
        "x,y,z = \"one\",\"two\", \"three\"\n",
        "print(x)\n",
        "print(y)\n",
        "print(z)\n"
      ],
      "metadata": {
        "colab": {
          "base_uri": "https://localhost:8080/"
        },
        "id": "2yNRk4yyQON_",
        "outputId": "6dfc1002-1e2d-40f9-d385-5577822e65a0"
      },
      "execution_count": 25,
      "outputs": [
        {
          "output_type": "stream",
          "name": "stdout",
          "text": [
            "one\n",
            "two\n",
            "three\n"
          ]
        }
      ]
    },
    {
      "cell_type": "markdown",
      "source": [
        "One Value to Multiple Variables\n"
      ],
      "metadata": {
        "id": "NRR6wjfhQ6hq"
      }
    },
    {
      "cell_type": "code",
      "source": [
        "x=y=z=\"four\"\n",
        "print(x)\n",
        "print(y)\n",
        "print(z)\n"
      ],
      "metadata": {
        "colab": {
          "base_uri": "https://localhost:8080/"
        },
        "id": "jZ79EaqOQ__H",
        "outputId": "9ea502c6-503f-45ad-bf1a-07328526059b"
      },
      "execution_count": 26,
      "outputs": [
        {
          "output_type": "stream",
          "name": "stdout",
          "text": [
            "four\n",
            "four\n",
            "four\n"
          ]
        }
      ]
    },
    {
      "cell_type": "markdown",
      "source": [
        "Output Variables"
      ],
      "metadata": {
        "id": "6gdko77NRMhI"
      }
    },
    {
      "cell_type": "code",
      "source": [
        "x= \"enjoying\"\n",
        "print(\"Python programming is \" + x)"
      ],
      "metadata": {
        "colab": {
          "base_uri": "https://localhost:8080/"
        },
        "id": "G1r-55peRWch",
        "outputId": "3097eb3a-8ed2-4ff8-b34a-f7d188866c17"
      },
      "execution_count": 30,
      "outputs": [
        {
          "output_type": "stream",
          "name": "stdout",
          "text": [
            "Python programming is enjoying\n"
          ]
        }
      ]
    },
    {
      "cell_type": "markdown",
      "source": [
        "Other way:"
      ],
      "metadata": {
        "id": "M7HanI5NR_JW"
      }
    },
    {
      "cell_type": "code",
      "source": [
        "x= \"Python is \"\n",
        "y= \"enjoying\"\n",
        "z =x + y\n",
        "print(z)\n"
      ],
      "metadata": {
        "colab": {
          "base_uri": "https://localhost:8080/"
        },
        "id": "3uNZOUj2SExY",
        "outputId": "f19c10f6-882c-4c71-d781-3c1ddd7a6054"
      },
      "execution_count": 32,
      "outputs": [
        {
          "output_type": "stream",
          "name": "stdout",
          "text": [
            "Python is enjoying\n"
          ]
        }
      ]
    },
    {
      "cell_type": "markdown",
      "source": [
        "Arithmetic Operation"
      ],
      "metadata": {
        "id": "iojaB8y_Ukum"
      }
    },
    {
      "cell_type": "code",
      "source": [
        "x =5\n",
        "y=3\n",
        "print(x+y)\n",
        "x=5\n",
        "y=3\n",
        "sum=x+y\n",
        "sum"
      ],
      "metadata": {
        "colab": {
          "base_uri": "https://localhost:8080/"
        },
        "id": "qsUUQm3jUwW-",
        "outputId": "5a4f7d9f-c193-49d9-d1af-08ba016a2d86"
      },
      "execution_count": 33,
      "outputs": [
        {
          "output_type": "stream",
          "name": "stdout",
          "text": [
            "8\n"
          ]
        },
        {
          "output_type": "execute_result",
          "data": {
            "text/plain": [
              "8"
            ]
          },
          "metadata": {},
          "execution_count": 33
        }
      ]
    },
    {
      "cell_type": "markdown",
      "source": [
        "Assignment operators"
      ],
      "metadata": {
        "id": "QP4LJzqxVyUH"
      }
    },
    {
      "cell_type": "code",
      "source": [
        "a,b,c=0,-1,6\n",
        "c%=3\n",
        "c\n"
      ],
      "metadata": {
        "colab": {
          "base_uri": "https://localhost:8080/"
        },
        "id": "H5z04QctV1LW",
        "outputId": "fe341b7b-7441-4083-cb2e-fb6d71f9aec1"
      },
      "execution_count": 36,
      "outputs": [
        {
          "output_type": "execute_result",
          "data": {
            "text/plain": [
              "0"
            ]
          },
          "metadata": {},
          "execution_count": 36
        }
      ]
    },
    {
      "cell_type": "markdown",
      "source": [
        "Comparison operators"
      ],
      "metadata": {
        "id": "nUl6jsRaWadl"
      }
    },
    {
      "cell_type": "code",
      "source": [
        "x=1\n",
        "y=1\n",
        "x==y\n"
      ],
      "metadata": {
        "colab": {
          "base_uri": "https://localhost:8080/"
        },
        "id": "CPXEHHveWffW",
        "outputId": "937c3230-de7f-44a5-c59b-47377f637169"
      },
      "execution_count": 37,
      "outputs": [
        {
          "output_type": "execute_result",
          "data": {
            "text/plain": [
              "True"
            ]
          },
          "metadata": {},
          "execution_count": 37
        }
      ]
    },
    {
      "cell_type": "markdown",
      "source": [
        "Logical operators"
      ],
      "metadata": {
        "id": "h4u99B3VW10F"
      }
    },
    {
      "cell_type": "code",
      "source": [
        "x=1\n",
        "x<5 and x<10\n"
      ],
      "metadata": {
        "colab": {
          "base_uri": "https://localhost:8080/"
        },
        "id": "5-r302nzW5YP",
        "outputId": "a1b241e0-5426-4f7b-ec48-fe960c24feb0"
      },
      "execution_count": 38,
      "outputs": [
        {
          "output_type": "execute_result",
          "data": {
            "text/plain": [
              "True"
            ]
          },
          "metadata": {},
          "execution_count": 38
        }
      ]
    },
    {
      "cell_type": "markdown",
      "source": [
        "Identity operators"
      ],
      "metadata": {
        "id": "fs7TUsRKXfS9"
      }
    },
    {
      "cell_type": "code",
      "source": [
        "a,b,c=0,-1,5\n",
        "a is a\n",
        "\n"
      ],
      "metadata": {
        "colab": {
          "base_uri": "https://localhost:8080/"
        },
        "id": "--0rCvE7XjxW",
        "outputId": "e04522a0-a12e-4509-906a-eb1d72cf2a5c"
      },
      "execution_count": 41,
      "outputs": [
        {
          "output_type": "execute_result",
          "data": {
            "text/plain": [
              "True"
            ]
          },
          "metadata": {},
          "execution_count": 41
        }
      ]
    },
    {
      "cell_type": "markdown",
      "source": [
        "Bitwise operators\n",
        "\n",
        "xor\n",
        "and\n",
        "or\n",
        "nand\n",
        "etc."
      ],
      "metadata": {
        "id": "3_a3585tYIt9"
      }
    },
    {
      "cell_type": "code",
      "source": [],
      "metadata": {
        "id": "uFJZ-UyMYMOm"
      },
      "execution_count": null,
      "outputs": []
    }
  ]
}