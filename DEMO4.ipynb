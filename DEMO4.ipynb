{
  "nbformat": 4,
  "nbformat_minor": 0,
  "metadata": {
    "colab": {
      "provenance": [],
      "authorship_tag": "ABX9TyNrA0lG7EZhmzlIF3P/KqfE",
      "include_colab_link": true
    },
    "kernelspec": {
      "name": "python3",
      "display_name": "Python 3"
    },
    "language_info": {
      "name": "python"
    }
  },
  "cells": [
    {
      "cell_type": "markdown",
      "metadata": {
        "id": "view-in-github",
        "colab_type": "text"
      },
      "source": [
        "<a href=\"https://colab.research.google.com/github/MartinTiong/CPE009A-OOP/blob/main/DEMO4.ipynb\" target=\"_parent\"><img src=\"https://colab.research.google.com/assets/colab-badge.svg\" alt=\"Open In Colab\"/></a>"
      ]
    },
    {
      "cell_type": "code",
      "execution_count": 2,
      "metadata": {
        "colab": {
          "base_uri": "https://localhost:8080/"
        },
        "id": "UniRo9cEYDG_",
        "outputId": "ed01eac9-2af7-4ea0-cca1-a204444bad5e"
      },
      "outputs": [
        {
          "output_type": "stream",
          "name": "stdout",
          "text": [
            "True\n",
            "False\n"
          ]
        }
      ],
      "source": [
        "print (bool(\"Hello\"))\n",
        "print (bool(False))"
      ]
    },
    {
      "cell_type": "markdown",
      "source": [
        "The bool function allows you to evaluate any value, and give you true or false in return\n"
      ],
      "metadata": {
        "id": "0x5ofc8AYvHN"
      }
    },
    {
      "cell_type": "markdown",
      "source": [
        "Almost any valuse is evaluated to true it it has some sort of context except for empty space/set"
      ],
      "metadata": {
        "id": "mXhIwqaWZJsv"
      }
    },
    {
      "cell_type": "code",
      "source": [
        "print(bool(False))\n",
        "print(bool(None))\n",
        "print(bool(0))\n",
        "print(bool(\"\"))\n",
        "print(bool(()))\n",
        "print(bool({}))\n",
        "print(bool([]))\n"
      ],
      "metadata": {
        "colab": {
          "base_uri": "https://localhost:8080/"
        },
        "id": "-684x8CmZXtk",
        "outputId": "e72d47e4-eab8-45fa-ea2b-09d77ea29d0f"
      },
      "execution_count": 3,
      "outputs": [
        {
          "output_type": "stream",
          "name": "stdout",
          "text": [
            "False\n",
            "False\n",
            "False\n",
            "False\n",
            "False\n",
            "False\n",
            "False\n"
          ]
        }
      ]
    },
    {
      "cell_type": "markdown",
      "source": [
        "functions can return a boolean"
      ],
      "metadata": {
        "id": "EHF84hNZaVWU"
      }
    },
    {
      "cell_type": "code",
      "source": [
        "def myFunction():\n",
        "  return True\n",
        "\n",
        "  if myFunction():\n",
        "    print(\"YES\")\n",
        "\n",
        "  else:\n",
        "      print(\"NO\")\n",
        ""
      ],
      "metadata": {
        "id": "qgdNbdk1abDt"
      },
      "execution_count": 12,
      "outputs": []
    },
    {
      "cell_type": "code",
      "source": [
        "print(10>9)\n",
        "a=6\n",
        "b=7\n",
        "print(a==b)\n",
        "print(a!=a)"
      ],
      "metadata": {
        "colab": {
          "base_uri": "https://localhost:8080/"
        },
        "id": "jco-Ec9QcMHs",
        "outputId": "cb548e24-9628-4e25-d8fa-1b5b22d4cb0b"
      },
      "execution_count": 15,
      "outputs": [
        {
          "output_type": "stream",
          "name": "stdout",
          "text": [
            "True\n",
            "False\n",
            "False\n"
          ]
        }
      ]
    },
    {
      "cell_type": "markdown",
      "source": [
        "Python operators\n",
        "operators are use to perform operation on variables and values\n",
        "In this example below, we use the + operator to add together two values"
      ],
      "metadata": {
        "id": "U9cUMC76ccB8"
      }
    },
    {
      "cell_type": "code",
      "source": [
        "print(10+5)\n",
        "print(10-5)\n",
        "print(10*5)\n",
        "print(10/5)\n",
        "print(10%5)\n",
        "print(10//3)\n",
        "print(10**2)"
      ],
      "metadata": {
        "colab": {
          "base_uri": "https://localhost:8080/"
        },
        "id": "b5fAaut2c6mk",
        "outputId": "4fd4868a-d023-45b0-d03e-54e280dc042a"
      },
      "execution_count": 16,
      "outputs": [
        {
          "output_type": "stream",
          "name": "stdout",
          "text": [
            "15\n",
            "5\n",
            "50\n",
            "2.0\n",
            "0\n",
            "3\n",
            "100\n"
          ]
        }
      ]
    },
    {
      "cell_type": "markdown",
      "source": [
        "Bitwise operators"
      ],
      "metadata": {
        "id": "_3aI9ihIefc7"
      }
    },
    {
      "cell_type": "markdown",
      "source": [
        "-Works on bits and performs bit by bit operation. Assumee if a=60 and b= 13; now in binary format they will be as follows\n",
        "a= 0011 1100, decimal 60\n",
        "b= 0000 1101, decimal 13"
      ],
      "metadata": {
        "id": "YUJr8f5Beilz"
      }
    },
    {
      "cell_type": "code",
      "source": [
        "a= 60\n",
        "b=13\n",
        "a & b #and\n"
      ],
      "metadata": {
        "colab": {
          "base_uri": "https://localhost:8080/"
        },
        "id": "YmPJmBH6flB8",
        "outputId": "0ce38540-1fbd-4e58-abb5-db2f9b3ddd92"
      },
      "execution_count": 20,
      "outputs": [
        {
          "output_type": "execute_result",
          "data": {
            "text/plain": [
              "12"
            ]
          },
          "metadata": {},
          "execution_count": 20
        }
      ]
    },
    {
      "cell_type": "code",
      "source": [
        "a= 60\n",
        "b=13\n",
        "a | b #or"
      ],
      "metadata": {
        "colab": {
          "base_uri": "https://localhost:8080/"
        },
        "id": "SUaqLAiFgUN7",
        "outputId": "3b29e306-a9d9-48e0-cef3-94ec120f3538"
      },
      "execution_count": 21,
      "outputs": [
        {
          "output_type": "execute_result",
          "data": {
            "text/plain": [
              "61"
            ]
          },
          "metadata": {},
          "execution_count": 21
        }
      ]
    },
    {
      "cell_type": "code",
      "source": [
        "a= 60\n",
        "b= 13\n",
        "print(a^b) #xor\n",
        "print(a<<b)\n",
        "print(a>>b)\n",
        "print(a<<2)"
      ],
      "metadata": {
        "colab": {
          "base_uri": "https://localhost:8080/"
        },
        "id": "B6vLHD8AhJjj",
        "outputId": "628ad1b6-b7c3-4eed-8e4b-eecf5ec50fb9"
      },
      "execution_count": 26,
      "outputs": [
        {
          "output_type": "stream",
          "name": "stdout",
          "text": [
            "49\n",
            "491520\n",
            "0\n",
            "240\n"
          ]
        }
      ]
    },
    {
      "cell_type": "markdown",
      "source": [
        "Python assignment operators\n",
        "x+=3 same as x = x+3\n",
        "x-=3 same as x= x-3\n",
        "x*=3 same as x=x*3\n",
        "x/=3 same as x=x/3\n",
        "x&=3 same as x=x%3\n"
      ],
      "metadata": {
        "id": "VbNnwbyUinOk"
      }
    },
    {
      "cell_type": "code",
      "source": [
        "x=1\n",
        "x+=3\n",
        "print(x)"
      ],
      "metadata": {
        "colab": {
          "base_uri": "https://localhost:8080/"
        },
        "id": "1W9R2KodjJzz",
        "outputId": "c196d30d-8ed3-479b-8806-a5356f481582"
      },
      "execution_count": 27,
      "outputs": [
        {
          "output_type": "stream",
          "name": "stdout",
          "text": [
            "7\n"
          ]
        }
      ]
    },
    {
      "cell_type": "code",
      "source": [
        "x=3\n",
        "x-=3\n",
        "print(x)"
      ],
      "metadata": {
        "colab": {
          "base_uri": "https://localhost:8080/"
        },
        "id": "4-2Vj4QVh3mz",
        "outputId": "1dc5e3e5-0315-48bb-cd13-db054a1863fe"
      },
      "execution_count": 29,
      "outputs": [
        {
          "output_type": "stream",
          "name": "stdout",
          "text": [
            "0\n"
          ]
        }
      ]
    },
    {
      "cell_type": "code",
      "source": [
        "x =1\n",
        "x*=3\n",
        "print(x)"
      ],
      "metadata": {
        "colab": {
          "base_uri": "https://localhost:8080/"
        },
        "id": "lfSEHnDXkI8T",
        "outputId": "cb401a51-ae10-483d-bdd0-5f14fb4d706c"
      },
      "execution_count": 30,
      "outputs": [
        {
          "output_type": "stream",
          "name": "stdout",
          "text": [
            "3\n"
          ]
        }
      ]
    },
    {
      "cell_type": "code",
      "source": [
        "x=1\n",
        "x/= 3\n",
        "print(x)"
      ],
      "metadata": {
        "colab": {
          "base_uri": "https://localhost:8080/"
        },
        "id": "IJRoB2VhkPfc",
        "outputId": "010f296f-6dca-4a0d-f169-5dc68d0dfdbd"
      },
      "execution_count": 32,
      "outputs": [
        {
          "output_type": "stream",
          "name": "stdout",
          "text": [
            "0.3333333333333333\n"
          ]
        }
      ]
    },
    {
      "cell_type": "markdown",
      "source": [
        "comparison operators"
      ],
      "metadata": {
        "id": "CpJjHr7ckj1l"
      }
    },
    {
      "cell_type": "code",
      "source": [
        "y =60\n",
        "z =13\n",
        "print(y and b )"
      ],
      "metadata": {
        "colab": {
          "base_uri": "https://localhost:8080/"
        },
        "id": "5ssCwzT3kmaT",
        "outputId": "e10c9619-1f4b-4b28-e35e-f146b102dfa4"
      },
      "execution_count": 34,
      "outputs": [
        {
          "output_type": "stream",
          "name": "stdout",
          "text": [
            "13\n"
          ]
        }
      ]
    },
    {
      "cell_type": "markdown",
      "source": [
        "Logical operators"
      ],
      "metadata": {
        "id": "T6uutoyKlw_G"
      }
    },
    {
      "cell_type": "code",
      "source": [
        "y= 60\n",
        "z=13\n",
        "print(y > z)\n",
        "print(y<z)\n",
        "print(y>z and z>y)\n",
        "print(y>z and z<y)\n",
        "print(not(y>z and z<y))"
      ],
      "metadata": {
        "colab": {
          "base_uri": "https://localhost:8080/"
        },
        "id": "q7yyk8uRlaY_",
        "outputId": "5fbadd3b-7337-4239-c801-e003ecfd34b7"
      },
      "execution_count": 40,
      "outputs": [
        {
          "output_type": "stream",
          "name": "stdout",
          "text": [
            "True\n",
            "False\n",
            "False\n",
            "True\n",
            "False\n"
          ]
        }
      ]
    },
    {
      "cell_type": "markdown",
      "source": [
        "Identity operator"
      ],
      "metadata": {
        "id": "jtP5xuH-m69U"
      }
    },
    {
      "cell_type": "code",
      "source": [
        "print(y is z)\n",
        "print(y is not z)"
      ],
      "metadata": {
        "colab": {
          "base_uri": "https://localhost:8080/"
        },
        "id": "KvO5NmJinJN-",
        "outputId": "6b35c06c-2020-4207-fed8-3398095a0065"
      },
      "execution_count": 44,
      "outputs": [
        {
          "output_type": "stream",
          "name": "stdout",
          "text": [
            "False\n",
            "True\n"
          ]
        }
      ]
    },
    {
      "cell_type": "markdown",
      "source": [
        "loooping statement"
      ],
      "metadata": {
        "id": "RwRyFDOtn8xc"
      }
    },
    {
      "cell_type": "markdown",
      "source": [
        "- For loop:"
      ],
      "metadata": {
        "id": "-a42Sh0VqM36"
      }
    },
    {
      "cell_type": "code",
      "source": [
        "week = [\"Sunday\", \"Monday\", \"Tuesday\", \"Wednesday\", \"Thursday\", \"Friday\", \"Saturday\"]\n",
        "for z in week:\n",
        "  print(z)"
      ],
      "metadata": {
        "colab": {
          "base_uri": "https://localhost:8080/"
        },
        "id": "TYHrJk0hqhSR",
        "outputId": "6de5da36-83d7-428e-a4b7-98918b22675f"
      },
      "execution_count": 72,
      "outputs": [
        {
          "output_type": "stream",
          "name": "stdout",
          "text": [
            "Sunday\n",
            "Monday\n",
            "Tuesday\n",
            "Wednesday\n",
            "Thursday\n",
            "Friday\n",
            "Saturday\n"
          ]
        }
      ]
    },
    {
      "cell_type": "markdown",
      "source": [
        "break statement"
      ],
      "metadata": {
        "id": "--kEwNJ9r1qz"
      }
    },
    {
      "cell_type": "code",
      "source": [
        "week= [\"Sunday\", \"Monday\", \"Tuesday\", \"Wednesday\", \"Thursday\", \"Friday\", \"Saturday\"]\n",
        "for x in week:\n",
        "  if x==\"Wednesday\":\n",
        "    break\n",
        "    x= day\n",
        "    print(day)"
      ],
      "metadata": {
        "id": "mpnCjZ_3r5DG"
      },
      "execution_count": 92,
      "outputs": []
    },
    {
      "cell_type": "markdown",
      "source": [
        "range function"
      ],
      "metadata": {
        "id": "mAzq47DxwBh2"
      }
    },
    {
      "cell_type": "code",
      "source": [
        "for x in range (6):\n",
        " print(x)\n",
        "for x in range (2,6):\n",
        "  print(x)"
      ],
      "metadata": {
        "colab": {
          "base_uri": "https://localhost:8080/"
        },
        "id": "75yrc1oJwHDj",
        "outputId": "9415d1f2-f414-4e71-b23d-e79a9a00871c"
      },
      "execution_count": 79,
      "outputs": [
        {
          "output_type": "stream",
          "name": "stdout",
          "text": [
            "0\n",
            "1\n",
            "2\n",
            "3\n",
            "4\n",
            "5\n",
            "2\n",
            "3\n",
            "4\n",
            "5\n"
          ]
        }
      ]
    },
    {
      "cell_type": "markdown",
      "source": [
        "Nested loop"
      ],
      "metadata": {
        "id": "kj1DFAtTwpti"
      }
    },
    {
      "cell_type": "code",
      "source": [
        "adjective =[\"red\", \"big\", \"tasty\"]\n",
        "fruits= [\"apple\", \"banana\", \"cherry\"]\n",
        "for x in adjective:\n",
        "  for y in fruits:\n",
        "    print(x,y)"
      ],
      "metadata": {
        "colab": {
          "base_uri": "https://localhost:8080/"
        },
        "id": "d20WoGXLwr06",
        "outputId": "5b69bfb9-69d0-4e99-84a7-79785a834915"
      },
      "execution_count": 81,
      "outputs": [
        {
          "output_type": "stream",
          "name": "stdout",
          "text": [
            "red apple\n",
            "red banana\n",
            "red cherry\n",
            "big apple\n",
            "big banana\n",
            "big cherry\n",
            "tasty apple\n",
            "tasty banana\n",
            "tasty cherry\n"
          ]
        }
      ]
    },
    {
      "cell_type": "markdown",
      "source": [
        "- While loop"
      ],
      "metadata": {
        "id": "IEl5ZmC9qORz"
      }
    },
    {
      "cell_type": "code",
      "source": [
        "i=1\n",
        "while 1<6:\n",
        " print(i)\n",
        "i+=1"
      ],
      "metadata": {
        "id": "ht4xyHrBx13a"
      },
      "execution_count": null,
      "outputs": []
    },
    {
      "cell_type": "markdown",
      "source": [
        "break statement"
      ],
      "metadata": {
        "id": "5fQ7kLZzyUoJ"
      }
    },
    {
      "cell_type": "code",
      "source": [
        "i=1\n",
        "while i<6:\n",
        " print(i)\n",
        " if i==3:\n",
        "  break\n",
        "  i+=1"
      ],
      "metadata": {
        "id": "kYpByKQwyWM6"
      },
      "execution_count": null,
      "outputs": []
    },
    {
      "cell_type": "markdown",
      "source": [
        "Continue statement"
      ],
      "metadata": {
        "id": "Q-BCw8VNzB1O"
      }
    },
    {
      "cell_type": "code",
      "source": [
        "i=0\n",
        "while i<6:\n",
        "  i +=1\n",
        "  if i==3:\n",
        "   continue\n",
        "  print(i)"
      ],
      "metadata": {
        "colab": {
          "base_uri": "https://localhost:8080/"
        },
        "id": "y0VNdKT5zFXB",
        "outputId": "c6699dd0-e9d0-4ec4-9e1c-9541fffb54c1"
      },
      "execution_count": 91,
      "outputs": [
        {
          "output_type": "stream",
          "name": "stdout",
          "text": [
            "1\n",
            "2\n",
            "4\n",
            "5\n",
            "6\n"
          ]
        }
      ]
    }
  ]
}