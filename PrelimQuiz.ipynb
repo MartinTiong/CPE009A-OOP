{
  "nbformat": 4,
  "nbformat_minor": 0,
  "metadata": {
    "colab": {
      "provenance": [],
      "authorship_tag": "ABX9TyNzvbFv6nlmFzdEjGky7A/7",
      "include_colab_link": true
    },
    "kernelspec": {
      "name": "python3",
      "display_name": "Python 3"
    },
    "language_info": {
      "name": "python"
    }
  },
  "cells": [
    {
      "cell_type": "markdown",
      "metadata": {
        "id": "view-in-github",
        "colab_type": "text"
      },
      "source": [
        "<a href=\"https://colab.research.google.com/github/MartinTiong/CPE009A-OOP/blob/main/PrelimQuiz.ipynb\" target=\"_parent\"><img src=\"https://colab.research.google.com/assets/colab-badge.svg\" alt=\"Open In Colab\"/></a>"
      ]
    },
    {
      "cell_type": "code",
      "execution_count": null,
      "metadata": {
        "id": "cQnHOlvdQkEg"
      },
      "outputs": [],
      "source": [
        "n= 20\n",
        "totalNum = n\n",
        "sum = 0\n",
        "average = 0\n",
        "while n>=0:\n",
        " sum+=n\n",
        "n-=1\n",
        "average = sum/totalNum\n",
        "print(sum)\n",
        "print(average)"
      ]
    },
    {
      "cell_type": "code",
      "source": [
        "n= 20\n",
        "totalNum= n\n",
        "sum = 0\n",
        "average= 0\n",
        "while n>=0:\n",
        "  sum+=n\n",
        "  n-=1\n",
        "\n",
        "average = sum/totalNum\n",
        "print(sum)\n",
        "print(average)"
      ],
      "metadata": {
        "id": "PwSxeLZvZd4c"
      },
      "execution_count": null,
      "outputs": []
    }
  ]
}